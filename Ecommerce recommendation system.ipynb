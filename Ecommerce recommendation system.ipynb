{
 "cells": [
  {
   "cell_type": "markdown",
   "id": "a4771581-8423-4fb6-b28b-7947ce083c3c",
   "metadata": {},
   "source": [
    "# E-Commerce Product Recommendation System\n",
    "### Created by: Nafisa Begam"
   ]
  },
  {
   "cell_type": "markdown",
   "id": "a4392829-02f4-418d-bd57-f9572ae3f4eb",
   "metadata": {},
   "source": [
    "## Problem Statement:\n",
    "To Build a recommendation system for an e-commerce platform to suggest relevant products to users based on their purchase history."
   ]
  },
  {
   "cell_type": "markdown",
   "id": "3ff4edc0-36ae-4289-aaf6-1bd9b69b68af",
   "metadata": {},
   "source": [
    "##  Dataset Description:\n",
    "The dataset is sourced from the Retailrocket e-commerce dataset, containing:\n",
    "* User transactions (transaction events)\n",
    "* Product properties\n",
    "* Product category hierarchy"
   ]
  },
  {
   "cell_type": "markdown",
   "id": "cefbd1a0-2568-4d51-8a67-e45b009f49a1",
   "metadata": {},
   "source": [
    "##  Tools and Libraries:\n",
    "- Python 3\n",
    "- Pandas\n",
    "- NumPy\n",
    "- scikit-learn\n",
    "- Cosine Similarity\n",
    "- Jupyter Notebook\n"
   ]
  },
  {
   "cell_type": "markdown",
   "id": "5df8b4e7-bb13-4fe7-ac7e-cca1ebff72eb",
   "metadata": {},
   "source": [
    "# Step 1:Importing libraries"
   ]
  },
  {
   "cell_type": "code",
   "execution_count": null,
   "id": "36245194-f075-482d-a4b3-ccb9b0938506",
   "metadata": {},
   "outputs": [],
   "source": [
    "# Step 1: Importing required libraries\n",
    "import pandas as pd\n",
    "import numpy as np\n",
    "from sklearn.metrics.pairwise import cosine_similarity"
   ]
  },
  {
   "cell_type": "markdown",
   "id": "913f5d28-d2d0-438c-afe3-cff52bea7245",
   "metadata": {},
   "source": [
    "##  Conclusion:\n",
    "Successfully built a product recommendation system using item-based collaborative filtering on e-commerce transaction data. \n",
    "The system suggests similar products based on user purchase behavior."
   ]
  },
  {
   "cell_type": "markdown",
   "id": "6121ca7f-089d-42d2-b5b1-2620df01343b",
   "metadata": {},
   "source": [
    "# Step 2: Loading the DATA"
   ]
  },
  {
   "cell_type": "code",
   "execution_count": 26,
   "id": "9560a676-4659-4cf5-b6e2-f90719f283a4",
   "metadata": {},
   "outputs": [],
   "source": [
    "# Loading events data\n",
    "events = pd.read_csv('events.csv')\n",
    "\n",
    "# Loading item properties data\n",
    "item_properties = pd.read_csv('item_properties_part1.csv')\n",
    "\n",
    "# Loading category tree data\n",
    "category_tree = pd.read_csv('category_tree.csv')\n"
   ]
  },
  {
   "cell_type": "markdown",
   "id": "2310d7dd-8f39-4001-9c11-622d5bcef00e",
   "metadata": {},
   "source": [
    "# Step 3:Exploring the Data"
   ]
  },
  {
   "cell_type": "code",
   "execution_count": 27,
   "id": "eb81757c-7970-4042-bd96-fd09ffda84ab",
   "metadata": {},
   "outputs": [
    {
     "data": {
      "text/html": [
       "<div>\n",
       "<style scoped>\n",
       "    .dataframe tbody tr th:only-of-type {\n",
       "        vertical-align: middle;\n",
       "    }\n",
       "\n",
       "    .dataframe tbody tr th {\n",
       "        vertical-align: top;\n",
       "    }\n",
       "\n",
       "    .dataframe thead th {\n",
       "        text-align: right;\n",
       "    }\n",
       "</style>\n",
       "<table border=\"1\" class=\"dataframe\">\n",
       "  <thead>\n",
       "    <tr style=\"text-align: right;\">\n",
       "      <th></th>\n",
       "      <th>timestamp</th>\n",
       "      <th>visitorid</th>\n",
       "      <th>event</th>\n",
       "      <th>itemid</th>\n",
       "      <th>transactionid</th>\n",
       "    </tr>\n",
       "  </thead>\n",
       "  <tbody>\n",
       "    <tr>\n",
       "      <th>0</th>\n",
       "      <td>1433221332117</td>\n",
       "      <td>257597</td>\n",
       "      <td>view</td>\n",
       "      <td>355908</td>\n",
       "      <td>NaN</td>\n",
       "    </tr>\n",
       "    <tr>\n",
       "      <th>1</th>\n",
       "      <td>1433224214164</td>\n",
       "      <td>992329</td>\n",
       "      <td>view</td>\n",
       "      <td>248676</td>\n",
       "      <td>NaN</td>\n",
       "    </tr>\n",
       "    <tr>\n",
       "      <th>2</th>\n",
       "      <td>1433221999827</td>\n",
       "      <td>111016</td>\n",
       "      <td>view</td>\n",
       "      <td>318965</td>\n",
       "      <td>NaN</td>\n",
       "    </tr>\n",
       "    <tr>\n",
       "      <th>3</th>\n",
       "      <td>1433221955914</td>\n",
       "      <td>483717</td>\n",
       "      <td>view</td>\n",
       "      <td>253185</td>\n",
       "      <td>NaN</td>\n",
       "    </tr>\n",
       "    <tr>\n",
       "      <th>4</th>\n",
       "      <td>1433221337106</td>\n",
       "      <td>951259</td>\n",
       "      <td>view</td>\n",
       "      <td>367447</td>\n",
       "      <td>NaN</td>\n",
       "    </tr>\n",
       "  </tbody>\n",
       "</table>\n",
       "</div>"
      ],
      "text/plain": [
       "       timestamp  visitorid event  itemid  transactionid\n",
       "0  1433221332117     257597  view  355908            NaN\n",
       "1  1433224214164     992329  view  248676            NaN\n",
       "2  1433221999827     111016  view  318965            NaN\n",
       "3  1433221955914     483717  view  253185            NaN\n",
       "4  1433221337106     951259  view  367447            NaN"
      ]
     },
     "execution_count": 27,
     "metadata": {},
     "output_type": "execute_result"
    }
   ],
   "source": [
    "# To Check first 5 rows of events\n",
    "events.head()"
   ]
  },
  {
   "cell_type": "code",
   "execution_count": 28,
   "id": "ed8c900a-6572-467a-b1cd-eb1299a2878d",
   "metadata": {},
   "outputs": [
    {
     "name": "stdout",
     "output_type": "stream",
     "text": [
      "<class 'pandas.core.frame.DataFrame'>\n",
      "RangeIndex: 2756101 entries, 0 to 2756100\n",
      "Data columns (total 5 columns):\n",
      " #   Column         Dtype  \n",
      "---  ------         -----  \n",
      " 0   timestamp      int64  \n",
      " 1   visitorid      int64  \n",
      " 2   event          object \n",
      " 3   itemid         int64  \n",
      " 4   transactionid  float64\n",
      "dtypes: float64(1), int64(3), object(1)\n",
      "memory usage: 105.1+ MB\n"
     ]
    }
   ],
   "source": [
    "# To Check data info\n",
    "events.info()"
   ]
  },
  {
   "cell_type": "code",
   "execution_count": 29,
   "id": "e558bb0c-f195-46ca-9c6d-92cf920e2716",
   "metadata": {},
   "outputs": [
    {
     "name": "stdout",
     "output_type": "stream",
     "text": [
      "Unique users: 1407580\n",
      "Unique items: 235061\n"
     ]
    }
   ],
   "source": [
    "# To check Number of unique users and items\n",
    "print(\"Unique users:\", events['visitorid'].nunique())\n",
    "print(\"Unique items:\", events['itemid'].nunique())"
   ]
  },
  {
   "cell_type": "code",
   "execution_count": 30,
   "id": "fd8cc57e-dc10-4208-97fc-892faadf6e5d",
   "metadata": {},
   "outputs": [
    {
     "data": {
      "text/plain": [
       "event\n",
       "view           2664312\n",
       "addtocart        69332\n",
       "transaction      22457\n",
       "Name: count, dtype: int64"
      ]
     },
     "execution_count": 30,
     "metadata": {},
     "output_type": "execute_result"
    }
   ],
   "source": [
    "# To check Event type distribution\n",
    "events['event'].value_counts()"
   ]
  },
  {
   "cell_type": "code",
   "execution_count": 31,
   "id": "c8b14486-ca82-4fcd-9c80-a2ecbebd55c4",
   "metadata": {},
   "outputs": [
    {
     "data": {
      "text/plain": [
       "array(['view', 'addtocart', 'transaction'], dtype=object)"
      ]
     },
     "execution_count": 31,
     "metadata": {},
     "output_type": "execute_result"
    }
   ],
   "source": [
    "# To check List of event types\n",
    "events['event'].unique()"
   ]
  },
  {
   "cell_type": "markdown",
   "id": "5bc5706c-02ac-4b31-ada6-f1d917c318ee",
   "metadata": {},
   "source": [
    "# Step 4:Data Cleaning"
   ]
  },
  {
   "cell_type": "code",
   "execution_count": 32,
   "id": "c0a5a516-4b30-412b-87a1-4cd86196598e",
   "metadata": {},
   "outputs": [
    {
     "data": {
      "text/plain": [
       "timestamp              0\n",
       "visitorid              0\n",
       "event                  0\n",
       "itemid                 0\n",
       "transactionid    2733644\n",
       "dtype: int64"
      ]
     },
     "execution_count": 32,
     "metadata": {},
     "output_type": "execute_result"
    }
   ],
   "source": [
    "# Checking for missing values\n",
    "events.isnull().sum()"
   ]
  },
  {
   "cell_type": "code",
   "execution_count": 33,
   "id": "2aab2918-131e-49e7-9113-4d03f4736795",
   "metadata": {},
   "outputs": [
    {
     "data": {
      "text/plain": [
       "array(['transaction'], dtype=object)"
      ]
     },
     "execution_count": 33,
     "metadata": {},
     "output_type": "execute_result"
    }
   ],
   "source": [
    "# To check whether it keeps only 'transaction' events (as per dataset)\n",
    "events = events[events['event'] == 'transaction']\n",
    "\n",
    "# To Confirm only 'transaction' exists now\n",
    "events['event'].unique()"
   ]
  },
  {
   "cell_type": "markdown",
   "id": "ea101d79-d552-434e-9de5-f9ccd74d30b1",
   "metadata": {},
   "source": [
    "# Step 5: Creating User-Item Interaction Matrix"
   ]
  },
  {
   "cell_type": "code",
   "execution_count": 34,
   "id": "79bdb9ab-e4da-41a6-a6cd-f5d06aa06f9a",
   "metadata": {},
   "outputs": [
    {
     "data": {
      "text/plain": [
       "(11719, 12025)"
      ]
     },
     "execution_count": 34,
     "metadata": {},
     "output_type": "execute_result"
    }
   ],
   "source": [
    "# Creating pivot table for user-item interactions\n",
    "user_item_matrix = events.pivot_table(index='visitorid', columns='itemid', values='transactionid', aggfunc='count', fill_value=0)\n",
    "\n",
    "# Checking shape of matrix\n",
    "user_item_matrix.shape"
   ]
  },
  {
   "cell_type": "code",
   "execution_count": 35,
   "id": "506f8370-ee63-40aa-8bcc-6a281b1b0f42",
   "metadata": {},
   "outputs": [
    {
     "data": {
      "text/html": [
       "<div>\n",
       "<style scoped>\n",
       "    .dataframe tbody tr th:only-of-type {\n",
       "        vertical-align: middle;\n",
       "    }\n",
       "\n",
       "    .dataframe tbody tr th {\n",
       "        vertical-align: top;\n",
       "    }\n",
       "\n",
       "    .dataframe thead th {\n",
       "        text-align: right;\n",
       "    }\n",
       "</style>\n",
       "<table border=\"1\" class=\"dataframe\">\n",
       "  <thead>\n",
       "    <tr style=\"text-align: right;\">\n",
       "      <th>itemid</th>\n",
       "      <th>15</th>\n",
       "      <th>19</th>\n",
       "      <th>25</th>\n",
       "      <th>42</th>\n",
       "      <th>147</th>\n",
       "      <th>168</th>\n",
       "      <th>199</th>\n",
       "      <th>212</th>\n",
       "      <th>233</th>\n",
       "      <th>304</th>\n",
       "      <th>...</th>\n",
       "      <th>466319</th>\n",
       "      <th>466321</th>\n",
       "      <th>466342</th>\n",
       "      <th>466443</th>\n",
       "      <th>466464</th>\n",
       "      <th>466526</th>\n",
       "      <th>466603</th>\n",
       "      <th>466614</th>\n",
       "      <th>466710</th>\n",
       "      <th>466861</th>\n",
       "    </tr>\n",
       "    <tr>\n",
       "      <th>visitorid</th>\n",
       "      <th></th>\n",
       "      <th></th>\n",
       "      <th></th>\n",
       "      <th></th>\n",
       "      <th></th>\n",
       "      <th></th>\n",
       "      <th></th>\n",
       "      <th></th>\n",
       "      <th></th>\n",
       "      <th></th>\n",
       "      <th></th>\n",
       "      <th></th>\n",
       "      <th></th>\n",
       "      <th></th>\n",
       "      <th></th>\n",
       "      <th></th>\n",
       "      <th></th>\n",
       "      <th></th>\n",
       "      <th></th>\n",
       "      <th></th>\n",
       "      <th></th>\n",
       "    </tr>\n",
       "  </thead>\n",
       "  <tbody>\n",
       "    <tr>\n",
       "      <th>172</th>\n",
       "      <td>0</td>\n",
       "      <td>0</td>\n",
       "      <td>0</td>\n",
       "      <td>0</td>\n",
       "      <td>0</td>\n",
       "      <td>0</td>\n",
       "      <td>0</td>\n",
       "      <td>0</td>\n",
       "      <td>0</td>\n",
       "      <td>0</td>\n",
       "      <td>...</td>\n",
       "      <td>0</td>\n",
       "      <td>0</td>\n",
       "      <td>0</td>\n",
       "      <td>0</td>\n",
       "      <td>0</td>\n",
       "      <td>0</td>\n",
       "      <td>0</td>\n",
       "      <td>0</td>\n",
       "      <td>0</td>\n",
       "      <td>0</td>\n",
       "    </tr>\n",
       "    <tr>\n",
       "      <th>186</th>\n",
       "      <td>0</td>\n",
       "      <td>0</td>\n",
       "      <td>0</td>\n",
       "      <td>0</td>\n",
       "      <td>0</td>\n",
       "      <td>0</td>\n",
       "      <td>0</td>\n",
       "      <td>0</td>\n",
       "      <td>0</td>\n",
       "      <td>0</td>\n",
       "      <td>...</td>\n",
       "      <td>0</td>\n",
       "      <td>0</td>\n",
       "      <td>0</td>\n",
       "      <td>0</td>\n",
       "      <td>0</td>\n",
       "      <td>0</td>\n",
       "      <td>0</td>\n",
       "      <td>0</td>\n",
       "      <td>0</td>\n",
       "      <td>0</td>\n",
       "    </tr>\n",
       "    <tr>\n",
       "      <th>264</th>\n",
       "      <td>0</td>\n",
       "      <td>0</td>\n",
       "      <td>0</td>\n",
       "      <td>0</td>\n",
       "      <td>0</td>\n",
       "      <td>0</td>\n",
       "      <td>0</td>\n",
       "      <td>0</td>\n",
       "      <td>0</td>\n",
       "      <td>0</td>\n",
       "      <td>...</td>\n",
       "      <td>0</td>\n",
       "      <td>0</td>\n",
       "      <td>0</td>\n",
       "      <td>0</td>\n",
       "      <td>0</td>\n",
       "      <td>0</td>\n",
       "      <td>0</td>\n",
       "      <td>0</td>\n",
       "      <td>0</td>\n",
       "      <td>0</td>\n",
       "    </tr>\n",
       "    <tr>\n",
       "      <th>419</th>\n",
       "      <td>0</td>\n",
       "      <td>0</td>\n",
       "      <td>0</td>\n",
       "      <td>0</td>\n",
       "      <td>0</td>\n",
       "      <td>0</td>\n",
       "      <td>0</td>\n",
       "      <td>0</td>\n",
       "      <td>0</td>\n",
       "      <td>0</td>\n",
       "      <td>...</td>\n",
       "      <td>0</td>\n",
       "      <td>0</td>\n",
       "      <td>0</td>\n",
       "      <td>0</td>\n",
       "      <td>0</td>\n",
       "      <td>0</td>\n",
       "      <td>0</td>\n",
       "      <td>0</td>\n",
       "      <td>0</td>\n",
       "      <td>0</td>\n",
       "    </tr>\n",
       "    <tr>\n",
       "      <th>539</th>\n",
       "      <td>0</td>\n",
       "      <td>0</td>\n",
       "      <td>0</td>\n",
       "      <td>0</td>\n",
       "      <td>0</td>\n",
       "      <td>0</td>\n",
       "      <td>0</td>\n",
       "      <td>0</td>\n",
       "      <td>0</td>\n",
       "      <td>0</td>\n",
       "      <td>...</td>\n",
       "      <td>0</td>\n",
       "      <td>0</td>\n",
       "      <td>0</td>\n",
       "      <td>0</td>\n",
       "      <td>0</td>\n",
       "      <td>0</td>\n",
       "      <td>0</td>\n",
       "      <td>0</td>\n",
       "      <td>0</td>\n",
       "      <td>0</td>\n",
       "    </tr>\n",
       "  </tbody>\n",
       "</table>\n",
       "<p>5 rows × 12025 columns</p>\n",
       "</div>"
      ],
      "text/plain": [
       "itemid     15      19      25      42      147     168     199     212     \\\n",
       "visitorid                                                                   \n",
       "172             0       0       0       0       0       0       0       0   \n",
       "186             0       0       0       0       0       0       0       0   \n",
       "264             0       0       0       0       0       0       0       0   \n",
       "419             0       0       0       0       0       0       0       0   \n",
       "539             0       0       0       0       0       0       0       0   \n",
       "\n",
       "itemid     233     304     ...  466319  466321  466342  466443  466464  \\\n",
       "visitorid                  ...                                           \n",
       "172             0       0  ...       0       0       0       0       0   \n",
       "186             0       0  ...       0       0       0       0       0   \n",
       "264             0       0  ...       0       0       0       0       0   \n",
       "419             0       0  ...       0       0       0       0       0   \n",
       "539             0       0  ...       0       0       0       0       0   \n",
       "\n",
       "itemid     466526  466603  466614  466710  466861  \n",
       "visitorid                                          \n",
       "172             0       0       0       0       0  \n",
       "186             0       0       0       0       0  \n",
       "264             0       0       0       0       0  \n",
       "419             0       0       0       0       0  \n",
       "539             0       0       0       0       0  \n",
       "\n",
       "[5 rows x 12025 columns]"
      ]
     },
     "execution_count": 35,
     "metadata": {},
     "output_type": "execute_result"
    }
   ],
   "source": [
    "# to View first few rows\n",
    "user_item_matrix.head()"
   ]
  },
  {
   "cell_type": "markdown",
   "id": "d08651b9-85d0-45cb-9e39-c9fe52ac5561",
   "metadata": {},
   "source": [
    "# Step 6: Computing Item-Item Cosine Similarity"
   ]
  },
  {
   "cell_type": "code",
   "execution_count": 36,
   "id": "345a0fd7-0523-4702-8a7d-f6805f7520fd",
   "metadata": {},
   "outputs": [
    {
     "data": {
      "text/html": [
       "<div>\n",
       "<style scoped>\n",
       "    .dataframe tbody tr th:only-of-type {\n",
       "        vertical-align: middle;\n",
       "    }\n",
       "\n",
       "    .dataframe tbody tr th {\n",
       "        vertical-align: top;\n",
       "    }\n",
       "\n",
       "    .dataframe thead th {\n",
       "        text-align: right;\n",
       "    }\n",
       "</style>\n",
       "<table border=\"1\" class=\"dataframe\">\n",
       "  <thead>\n",
       "    <tr style=\"text-align: right;\">\n",
       "      <th>itemid</th>\n",
       "      <th>15</th>\n",
       "      <th>19</th>\n",
       "      <th>25</th>\n",
       "      <th>42</th>\n",
       "      <th>147</th>\n",
       "      <th>168</th>\n",
       "      <th>199</th>\n",
       "      <th>212</th>\n",
       "      <th>233</th>\n",
       "      <th>304</th>\n",
       "      <th>...</th>\n",
       "      <th>466319</th>\n",
       "      <th>466321</th>\n",
       "      <th>466342</th>\n",
       "      <th>466443</th>\n",
       "      <th>466464</th>\n",
       "      <th>466526</th>\n",
       "      <th>466603</th>\n",
       "      <th>466614</th>\n",
       "      <th>466710</th>\n",
       "      <th>466861</th>\n",
       "    </tr>\n",
       "    <tr>\n",
       "      <th>itemid</th>\n",
       "      <th></th>\n",
       "      <th></th>\n",
       "      <th></th>\n",
       "      <th></th>\n",
       "      <th></th>\n",
       "      <th></th>\n",
       "      <th></th>\n",
       "      <th></th>\n",
       "      <th></th>\n",
       "      <th></th>\n",
       "      <th></th>\n",
       "      <th></th>\n",
       "      <th></th>\n",
       "      <th></th>\n",
       "      <th></th>\n",
       "      <th></th>\n",
       "      <th></th>\n",
       "      <th></th>\n",
       "      <th></th>\n",
       "      <th></th>\n",
       "      <th></th>\n",
       "    </tr>\n",
       "  </thead>\n",
       "  <tbody>\n",
       "    <tr>\n",
       "      <th>15</th>\n",
       "      <td>1.0</td>\n",
       "      <td>0.0</td>\n",
       "      <td>0.0</td>\n",
       "      <td>0.0</td>\n",
       "      <td>0.0</td>\n",
       "      <td>0.0</td>\n",
       "      <td>0.0</td>\n",
       "      <td>0.0</td>\n",
       "      <td>0.0</td>\n",
       "      <td>0.0</td>\n",
       "      <td>...</td>\n",
       "      <td>0.0</td>\n",
       "      <td>0.0</td>\n",
       "      <td>0.0</td>\n",
       "      <td>0.0</td>\n",
       "      <td>0.0</td>\n",
       "      <td>0.0</td>\n",
       "      <td>0.0</td>\n",
       "      <td>0.0</td>\n",
       "      <td>0.0</td>\n",
       "      <td>0.0</td>\n",
       "    </tr>\n",
       "    <tr>\n",
       "      <th>19</th>\n",
       "      <td>0.0</td>\n",
       "      <td>1.0</td>\n",
       "      <td>0.0</td>\n",
       "      <td>0.0</td>\n",
       "      <td>0.0</td>\n",
       "      <td>0.0</td>\n",
       "      <td>0.0</td>\n",
       "      <td>0.0</td>\n",
       "      <td>0.0</td>\n",
       "      <td>0.0</td>\n",
       "      <td>...</td>\n",
       "      <td>0.0</td>\n",
       "      <td>0.0</td>\n",
       "      <td>0.0</td>\n",
       "      <td>0.0</td>\n",
       "      <td>0.0</td>\n",
       "      <td>0.0</td>\n",
       "      <td>0.0</td>\n",
       "      <td>0.0</td>\n",
       "      <td>0.0</td>\n",
       "      <td>0.0</td>\n",
       "    </tr>\n",
       "    <tr>\n",
       "      <th>25</th>\n",
       "      <td>0.0</td>\n",
       "      <td>0.0</td>\n",
       "      <td>1.0</td>\n",
       "      <td>0.0</td>\n",
       "      <td>0.0</td>\n",
       "      <td>0.0</td>\n",
       "      <td>0.0</td>\n",
       "      <td>0.0</td>\n",
       "      <td>0.0</td>\n",
       "      <td>0.0</td>\n",
       "      <td>...</td>\n",
       "      <td>0.0</td>\n",
       "      <td>0.0</td>\n",
       "      <td>0.0</td>\n",
       "      <td>0.0</td>\n",
       "      <td>0.0</td>\n",
       "      <td>0.0</td>\n",
       "      <td>0.0</td>\n",
       "      <td>0.0</td>\n",
       "      <td>0.0</td>\n",
       "      <td>0.0</td>\n",
       "    </tr>\n",
       "    <tr>\n",
       "      <th>42</th>\n",
       "      <td>0.0</td>\n",
       "      <td>0.0</td>\n",
       "      <td>0.0</td>\n",
       "      <td>1.0</td>\n",
       "      <td>0.0</td>\n",
       "      <td>0.0</td>\n",
       "      <td>0.0</td>\n",
       "      <td>0.0</td>\n",
       "      <td>0.0</td>\n",
       "      <td>0.0</td>\n",
       "      <td>...</td>\n",
       "      <td>0.0</td>\n",
       "      <td>0.0</td>\n",
       "      <td>0.0</td>\n",
       "      <td>0.0</td>\n",
       "      <td>0.0</td>\n",
       "      <td>0.0</td>\n",
       "      <td>0.0</td>\n",
       "      <td>0.0</td>\n",
       "      <td>0.0</td>\n",
       "      <td>0.0</td>\n",
       "    </tr>\n",
       "    <tr>\n",
       "      <th>147</th>\n",
       "      <td>0.0</td>\n",
       "      <td>0.0</td>\n",
       "      <td>0.0</td>\n",
       "      <td>0.0</td>\n",
       "      <td>1.0</td>\n",
       "      <td>0.0</td>\n",
       "      <td>0.0</td>\n",
       "      <td>0.0</td>\n",
       "      <td>0.0</td>\n",
       "      <td>0.0</td>\n",
       "      <td>...</td>\n",
       "      <td>0.0</td>\n",
       "      <td>0.0</td>\n",
       "      <td>0.0</td>\n",
       "      <td>0.0</td>\n",
       "      <td>0.0</td>\n",
       "      <td>0.0</td>\n",
       "      <td>0.0</td>\n",
       "      <td>0.0</td>\n",
       "      <td>0.0</td>\n",
       "      <td>0.0</td>\n",
       "    </tr>\n",
       "  </tbody>\n",
       "</table>\n",
       "<p>5 rows × 12025 columns</p>\n",
       "</div>"
      ],
      "text/plain": [
       "itemid  15      19      25      42      147     168     199     212     \\\n",
       "itemid                                                                   \n",
       "15         1.0     0.0     0.0     0.0     0.0     0.0     0.0     0.0   \n",
       "19         0.0     1.0     0.0     0.0     0.0     0.0     0.0     0.0   \n",
       "25         0.0     0.0     1.0     0.0     0.0     0.0     0.0     0.0   \n",
       "42         0.0     0.0     0.0     1.0     0.0     0.0     0.0     0.0   \n",
       "147        0.0     0.0     0.0     0.0     1.0     0.0     0.0     0.0   \n",
       "\n",
       "itemid  233     304     ...  466319  466321  466342  466443  466464  466526  \\\n",
       "itemid                  ...                                                   \n",
       "15         0.0     0.0  ...     0.0     0.0     0.0     0.0     0.0     0.0   \n",
       "19         0.0     0.0  ...     0.0     0.0     0.0     0.0     0.0     0.0   \n",
       "25         0.0     0.0  ...     0.0     0.0     0.0     0.0     0.0     0.0   \n",
       "42         0.0     0.0  ...     0.0     0.0     0.0     0.0     0.0     0.0   \n",
       "147        0.0     0.0  ...     0.0     0.0     0.0     0.0     0.0     0.0   \n",
       "\n",
       "itemid  466603  466614  466710  466861  \n",
       "itemid                                  \n",
       "15         0.0     0.0     0.0     0.0  \n",
       "19         0.0     0.0     0.0     0.0  \n",
       "25         0.0     0.0     0.0     0.0  \n",
       "42         0.0     0.0     0.0     0.0  \n",
       "147        0.0     0.0     0.0     0.0  \n",
       "\n",
       "[5 rows x 12025 columns]"
      ]
     },
     "execution_count": 36,
     "metadata": {},
     "output_type": "execute_result"
    }
   ],
   "source": [
    "# Calculating cosine similarity between items (columns)\n",
    "item_similarity = cosine_similarity(user_item_matrix.T)\n",
    "\n",
    "# Converting similarity matrix to DataFrame\n",
    "item_similarity_df = pd.DataFrame(item_similarity, \n",
    "                                  index=user_item_matrix.columns, \n",
    "                                  columns=user_item_matrix.columns)\n",
    "\n",
    "# To View first few rows of similarity matrix\n",
    "item_similarity_df.head()"
   ]
  },
  {
   "cell_type": "markdown",
   "id": "84b332c5-e518-4c07-9b53-efd118415559",
   "metadata": {},
   "source": [
    "# Step 7: Recommendation Function"
   ]
  },
  {
   "cell_type": "code",
   "execution_count": 38,
   "id": "96e5c9f9-2b5b-45f0-b5fe-69920c270c8d",
   "metadata": {},
   "outputs": [],
   "source": [
    "# Function to get top N similar items\n",
    "def get_similar_items(item_id, top_n=5):\n",
    "    if item_id in item_similarity_df:\n",
    "        similar_scores = item_similarity_df[item_id].sort_values(ascending=False)\n",
    "        similar_scores = similar_scores.drop(item_id)  # Remove the item itself\n",
    "        return similar_scores.head(top_n)\n",
    "    else:\n",
    "        return \"Item not found in data\"\n"
   ]
  },
  {
   "cell_type": "markdown",
   "id": "3f2d6c54-b2d8-41da-8c3e-6a17c7197463",
   "metadata": {},
   "source": [
    "# Step 8: To Test the Recommendation System"
   ]
  },
  {
   "cell_type": "code",
   "execution_count": 39,
   "id": "60d2659f-4dfb-4a9e-8411-0a749d59984b",
   "metadata": {},
   "outputs": [
    {
     "data": {
      "text/plain": [
       "'Item not found in data'"
      ]
     },
     "execution_count": 39,
     "metadata": {},
     "output_type": "execute_result"
    }
   ],
   "source": [
    "# Replacing 355908 with any itemid that I wished\n",
    "get_similar_items(355908)"
   ]
  },
  {
   "cell_type": "markdown",
   "id": "2ad97ac6-5332-425d-b8a2-20cf68a8859a",
   "metadata": {},
   "source": [
    "##  Conclusion:\n",
    "Successfully built a product recommendation system using item-based collaborative filtering on e-commerce transaction data. \n",
    "The system suggests similar products based on user purchase behavior.\n",
    "\n",
    "---\n",
    "\n",
    "##  Created by:\n",
    "**Nafisa Begam**\n"
   ]
  },
  {
   "cell_type": "code",
   "execution_count": null,
   "id": "732ac1d1-474f-4c5a-a087-5f7f02102e15",
   "metadata": {},
   "outputs": [],
   "source": []
  }
 ],
 "metadata": {
  "kernelspec": {
   "display_name": "Python 3 (ipykernel)",
   "language": "python",
   "name": "python3"
  },
  "language_info": {
   "codemirror_mode": {
    "name": "ipython",
    "version": 3
   },
   "file_extension": ".py",
   "mimetype": "text/x-python",
   "name": "python",
   "nbconvert_exporter": "python",
   "pygments_lexer": "ipython3",
   "version": "3.11.7"
  }
 },
 "nbformat": 4,
 "nbformat_minor": 5
}
